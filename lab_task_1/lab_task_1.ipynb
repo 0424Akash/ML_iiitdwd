{
  "nbformat": 4,
  "nbformat_minor": 0,
  "metadata": {
    "colab": {
      "name": "Untitled15.ipynb",
      "provenance": []
    },
    "kernelspec": {
      "name": "python3",
      "display_name": "Python 3"
    }
  },
  "cells": [
    {
      "cell_type": "code",
      "metadata": {
        "id": "kKdBNkVBcn2u"
      },
      "source": [
        "import numpy as np\r\n",
        "import scipy as sp\r\n",
        "from scipy import stats\r\n",
        "import matplotlib.pyplot as plt"
      ],
      "execution_count": 5,
      "outputs": []
    },
    {
      "cell_type": "code",
      "metadata": {
        "id": "LgudGHdzcsdZ"
      },
      "source": [
        "mu, sigma = 5, 1\r\n",
        "x = np.random.normal(mu, sigma, 10)"
      ],
      "execution_count": 6,
      "outputs": []
    },
    {
      "cell_type": "code",
      "metadata": {
        "colab": {
          "base_uri": "https://localhost:8080/"
        },
        "id": "KOWsIRXQcwQ4",
        "outputId": "819a9511-4a54-44aa-fff2-b01862abca65"
      },
      "source": [
        "x"
      ],
      "execution_count": 7,
      "outputs": [
        {
          "output_type": "execute_result",
          "data": {
            "text/plain": [
              "array([4.66841488, 6.48149251, 5.60180476, 4.84229535, 4.19225825,\n",
              "       4.8380367 , 4.8549298 , 4.00807934, 4.92755752, 4.60266247])"
            ]
          },
          "metadata": {
            "tags": []
          },
          "execution_count": 7
        }
      ]
    },
    {
      "cell_type": "code",
      "metadata": {
        "colab": {
          "base_uri": "https://localhost:8080/"
        },
        "id": "0MoJRslGcxJC",
        "outputId": "61e9d587-3ee6-44e3-cb85-376868d83d59"
      },
      "source": [
        "probability = 1/(sigma * np.sqrt(2 * np.pi)) * np.exp( - (x - mu)**2 / (2 * sigma**2) )\r\n",
        "likelihood = np.prod(probability)\r\n",
        "li = np.prod(np.log(probability))\r\n",
        "print(likelihood)\r\n",
        "print(li)"
      ],
      "execution_count": 8,
      "outputs": [
        {
          "output_type": "stream",
          "text": [
            "1.0557569321097882e-05\n",
            "2.8158243779709045\n"
          ],
          "name": "stdout"
        }
      ]
    },
    {
      "cell_type": "code",
      "metadata": {
        "id": "81cmhOw9eZoV"
      },
      "source": [
        "y = [1/(sigma * np.sqrt(2 * np.pi)) * np.exp( - (i - mu)**2 / (2 * sigma**2) ) for i in x]"
      ],
      "execution_count": 11,
      "outputs": []
    },
    {
      "cell_type": "code",
      "metadata": {
        "colab": {
          "base_uri": "https://localhost:8080/",
          "height": 298
        },
        "id": "TF0sPuUgeyLb",
        "outputId": "c8943cc8-7028-4d05-bece-06e7c9b87148"
      },
      "source": [
        "plt.plot(x, y,'bo')\r\n",
        "plt.title(\"Distribution:- mean: 5, variance: 1\")"
      ],
      "execution_count": 51,
      "outputs": [
        {
          "output_type": "execute_result",
          "data": {
            "text/plain": [
              "Text(0.5, 1.0, 'Distribution:- mean: 5, variance: 1')"
            ]
          },
          "metadata": {
            "tags": []
          },
          "execution_count": 51
        },
        {
          "output_type": "display_data",
          "data": {
            "image/png": "[encoded data removed]",
            "text/plain": [
              "<Figure size 432x288 with 1 Axes>"
            ]
          },
          "metadata": {
            "tags": [],
            "needs_background": "light"
          }
        }
      ]
    },
    {
      "cell_type": "code",
      "metadata": {
        "id": "aA26TZsKfjBt"
      },
      "source": [
        ""
      ],
      "execution_count": null,
      "outputs": []
    },
    {
      "cell_type": "code",
      "metadata": {
        "id": "pX9LackAc1ag"
      },
      "source": [
        "mean = np.linspace(0,10,10)\r\n",
        "sigma = 1"
      ],
      "execution_count": 42,
      "outputs": []
    },
    {
      "cell_type": "code",
      "metadata": {
        "colab": {
          "base_uri": "https://localhost:8080/"
        },
        "id": "v7LJ0pypdZ1c",
        "outputId": "6028b4d8-9e4d-4571-abcf-919162908c59"
      },
      "source": [
        "mean"
      ],
      "execution_count": 43,
      "outputs": [
        {
          "output_type": "execute_result",
          "data": {
            "text/plain": [
              "array([ 0.        ,  1.11111111,  2.22222222,  3.33333333,  4.44444444,\n",
              "        5.55555556,  6.66666667,  7.77777778,  8.88888889, 10.        ])"
            ]
          },
          "metadata": {
            "tags": []
          },
          "execution_count": 43
        }
      ]
    },
    {
      "cell_type": "code",
      "metadata": {
        "id": "DCQ1xQJodoNU"
      },
      "source": [
        "def product_of_gd(mean):\r\n",
        "  p = 1\r\n",
        "  for i in x:\r\n",
        "    p *= 1/(sigma * np.sqrt(2 * np.pi)) * np.exp( - (i - mean)**2 / (2 * sigma**2) )\r\n",
        "  return p"
      ],
      "execution_count": 44,
      "outputs": []
    },
    {
      "cell_type": "code",
      "metadata": {
        "id": "91xo2sn4hO0k"
      },
      "source": [
        "Y = [np.log(product_of_gd(j)) for j in mean]"
      ],
      "execution_count": 48,
      "outputs": []
    },
    {
      "cell_type": "code",
      "metadata": {
        "colab": {
          "base_uri": "https://localhost:8080/"
        },
        "id": "1UuBW4XioDY9",
        "outputId": "09b34c0d-1af7-4bc4-ccaa-12d2f6ac8bad"
      },
      "source": [
        "print(Y)"
      ],
      "execution_count": 49,
      "outputs": [
        {
          "output_type": "stream",
          "text": [
            "[-131.54632540860771, -83.25524093155829, -47.30983546685453, -23.71010901449646, -12.456061574484067, -13.547693146817352, -26.98500373149632, -52.76799332852098, -90.8966619378913, -141.37100955960727]\n"
          ],
          "name": "stdout"
        }
      ]
    },
    {
      "cell_type": "code",
      "metadata": {
        "colab": {
          "base_uri": "https://localhost:8080/",
          "height": 312
        },
        "id": "JWRpI1VKj2vJ",
        "outputId": "0592ec06-0aba-413c-98cf-31ea483652eb"
      },
      "source": [
        "plt.plot(mean,Y)\r\n",
        "plt.xlabel(\"Mean\")\r\n",
        "plt.ylabel(\"Likelihood\")\r\n",
        "plt.title(\"Likelihood curve\")"
      ],
      "execution_count": 52,
      "outputs": [
        {
          "output_type": "execute_result",
          "data": {
            "text/plain": [
              "Text(0.5, 1.0, 'Likelihood curve')"
            ]
          },
          "metadata": {
            "tags": []
          },
          "execution_count": 52
        },
        {
          "output_type": "display_data",
          "data": {
            "image/png": "[encoded data removed]",
            "text/plain": [
              "<Figure size 432x288 with 1 Axes>"
            ]
          },
          "metadata": {
            "tags": [],
            "needs_background": "light"
          }
        }
      ]
    },
    {
      "cell_type": "code",
      "metadata": {
        "id": "-jlWOYzqmY2L"
      },
      "source": [
        ""
      ],
      "execution_count": null,
      "outputs": []
    }
  ]
}