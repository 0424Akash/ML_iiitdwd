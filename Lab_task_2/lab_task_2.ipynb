{
  "nbformat": 4,
  "nbformat_minor": 0,
  "metadata": {
    "colab": {
      "name": "Untitled14.ipynb",
      "provenance": []
    },
    "kernelspec": {
      "name": "python3",
      "display_name": "Python 3"
    }
  },
  "cells": [
    {
      "cell_type": "code",
      "metadata": {
        "id": "ZLQWmFfZcetC"
      },
      "source": [
        "import numpy as np\r\n",
        "import matplotlib.pyplot as plt"
      ],
      "execution_count": 1,
      "outputs": []
    },
    {
      "cell_type": "code",
      "metadata": {
        "id": "w-HT1FwsdCRA"
      },
      "source": [
        "# slope = summation of(xi * yi - y_mean * xi) / summation of(xi^2 - xi * x_mean)\r\n",
        "# \r\n",
        "# intercept = y_mean - slope * x_mean"
      ],
      "execution_count": 2,
      "outputs": []
    },
    {
      "cell_type": "code",
      "metadata": {
        "id": "hEgVDWuOc0EU"
      },
      "source": [
        "def simple_linear_regression(x, y):\r\n",
        "  n = len(x)\r\n",
        "\r\n",
        "  x_mean = sum(x)/n \r\n",
        "  y_mean = sum(y)/n\r\n",
        "\r\n",
        "  slope_n = 0\r\n",
        "  slope_d = 0\r\n",
        "\r\n",
        "  for i in range(n):\r\n",
        "    slope_n += x[i]*y[i] - y_mean*x[i]\r\n",
        "    slope_d += x[i]**2 - x[i]*x_mean\r\n",
        "  \r\n",
        "  slope = slope_n / slope_d\r\n",
        "\r\n",
        "  intercept = y_mean - slope*x_mean\r\n",
        "\r\n",
        "  return slope,intercept"
      ],
      "execution_count": 3,
      "outputs": []
    },
    {
      "cell_type": "code",
      "metadata": {
        "id": "mMe9va3Jdmpu"
      },
      "source": [
        "x = np.array([1, 2, 3])\r\n",
        "y = np.array([1.2, 1.9, 3.2])"
      ],
      "execution_count": 4,
      "outputs": []
    },
    {
      "cell_type": "code",
      "metadata": {
        "id": "5IkQVDBzdqYW"
      },
      "source": [
        "m, c = simple_linear_regression(x, y)"
      ],
      "execution_count": 5,
      "outputs": []
    },
    {
      "cell_type": "code",
      "metadata": {
        "colab": {
          "base_uri": "https://localhost:8080/",
          "height": 312
        },
        "id": "nAeRfGeCds38",
        "outputId": "2e021c59-6bc4-4385-c6e3-f3245fe7c6cc"
      },
      "source": [
        "plt.plot(x, m*x + c)\r\n",
        "plt.plot(x, y, 'ro')\r\n",
        "plt.title(\"Best fit line\")\r\n",
        "plt.xlabel(\"X\")\r\n",
        "plt.ylabel(\"Y\")"
      ],
      "execution_count": 6,
      "outputs": [
        {
          "output_type": "execute_result",
          "data": {
            "text/plain": [
              "Text(0, 0.5, 'Y')"
            ]
          },
          "metadata": {
            "tags": []
          },
          "execution_count": 6
        },
        {
          "output_type": "display_data",
          "data": {
            "image/png": "[encoded data removed]",
            "text/plain": [
              "<Figure size 432x288 with 1 Axes>"
            ]
          },
          "metadata": {
            "tags": [],
            "needs_background": "light"
          }
        }
      ]
    },
    {
      "cell_type": "code",
      "metadata": {
        "id": "6AiCUkmNdvlD"
      },
      "source": [
        ""
      ],
      "execution_count": null,
      "outputs": []
    }
  ]
}